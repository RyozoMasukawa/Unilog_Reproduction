{
 "cells": [
  {
   "cell_type": "code",
   "execution_count": 8,
   "id": "848dabf6-49fa-411b-9477-4bce9ca90d01",
   "metadata": {
    "tags": []
   },
   "outputs": [
    {
     "name": "stderr",
     "output_type": "stream",
     "text": [
      "/usr/local/lib/python3.7/site-packages/tqdm/auto.py:21: TqdmWarning: IProgress not found. Please update jupyter and ipywidgets. See https://ipywidgets.readthedocs.io/en/stable/user_install.html\n",
      "  from .autonotebook import tqdm as notebook_tqdm\n"
     ]
    }
   ],
   "source": [
    "from datasets import load_dataset, load_from_disk\n",
    "import wordninja\n",
    "import os\n",
    "os.environ[\"CUDA_DEVICE_ORDER\"]=\"PCI_BUS_ID\"   # see issue #152\n",
    "os.environ[\"CUDA_VISIBLE_DEVICES\"]=\"2\"\n",
    "import re\n",
    "import glob\n",
    "import numpy as np\n",
    "import pandas as pd\n",
    "from tqdm.auto import tqdm\n",
    "\n",
    "import datasets\n",
    "import transformers\n",
    "from transformers import AutoTokenizer, default_data_collator, get_scheduler\n",
    "from hf_transformers.src.transformers.models.bert.configuration_bert import BertConfig\n",
    "from hf_transformers.src.transformers.models.bert.modeling_bert import BertForPreTraining\n",
    "\n",
    "import torch\n",
    "from torch.optim import AdamW\n",
    "from torch.utils.data import DataLoader\n",
    "\n",
    "import sys\n",
    "import math\n",
    "\n",
    "import collections\n",
    "\n",
    "\n",
    "from tokenizers import (\n",
    "    decoders,\n",
    "    models,\n",
    "    normalizers,\n",
    "    pre_tokenizers,\n",
    "    processors,\n",
    "    trainers,\n",
    "    Tokenizer,\n",
    ")\n"
   ]
  },
  {
   "cell_type": "code",
   "execution_count": 5,
   "id": "115cd228-8929-4fb9-859f-476ff51147ad",
   "metadata": {
    "tags": []
   },
   "outputs": [],
   "source": [
    "import matplotlib.pyplot as plt\n",
    "import numpy as np\n",
    "import pandas as pd\n",
    "import seaborn as sns\n",
    "from sklearn.decomposition import PCA\n",
    "from sklearn.feature_selection import mutual_info_regression\n",
    "from sklearn.model_selection import cross_val_score"
   ]
  },
  {
   "cell_type": "code",
   "execution_count": 70,
   "id": "f40dd474-da13-444b-ac24-53c4a3d3235d",
   "metadata": {
    "tags": []
   },
   "outputs": [
    {
     "name": "stdout",
     "output_type": "stream",
     "text": [
      "huggingface/tokenizers: The current process just got forked, after parallelism has already been used. Disabling parallelism to avoid deadlocks...\n",
      "To disable this warning, you can either:\n",
      "\t- Avoid using `tokenizers` before the fork if possible\n",
      "\t- Explicitly set the environment variable TOKENIZERS_PARALLELISM=(true | false)\n"
     ]
    }
   ],
   "source": [
    "#WARNING\n",
    "#cacheディレクトリの指定は絶対マウント先のフォルダにするように\n",
    "#そうしないとdockerイメージを管理している研究室サーバーの/がパンパンになってしまう\n",
    "#/が容量オーバーすると何も動かなくなって他の人に迷惑\n",
    "!export HF_DATASETS_CACHE=\"/home/\""
   ]
  },
  {
   "cell_type": "code",
   "execution_count": 57,
   "id": "18b36b0b-86e5-4bb4-8e14-5c756f1fa7de",
   "metadata": {
    "tags": []
   },
   "outputs": [],
   "source": [
    "#Codes for PCA ref: https://www.kaggle.com/code/javigallego/massive-pca-outlier-detection-tutorial#3-|-PCA-for-Data-Science\n",
    "\n",
    "def apply_pca(X, standardize=True):\n",
    "    # Standardize\n",
    "    if standardize:\n",
    "        X = (X - X.mean(axis=0)) / X.std(axis=0)\n",
    "    # Create principal components\n",
    "    pca = PCA()\n",
    "    X_pca = pca.fit_transform(X)\n",
    "    # Convert to dataframe\n",
    "    component_names = [f\"PC{i+1}\" for i in range(X_pca.shape[1])]\n",
    "    X_pca = pd.DataFrame(X_pca, columns=component_names)\n",
    "    # Create loadings\n",
    "    loadings = pd.DataFrame(\n",
    "        pca.components_.T,  # transpose the matrix of loadings\n",
    "        columns=component_names,  # so the columns are the principal components\n",
    "        index=X.columns,  # and the rows are the original features\n",
    "    )\n",
    "    return pca, X_pca, loadings\n",
    "\n",
    "def plot_variance(pca, width=8, dpi=100):\n",
    "    # Create figure\n",
    "    fig, axs = plt.subplots(1, 2)\n",
    "    n = pca.n_components_\n",
    "    grid = np.arange(1, n + 1)\n",
    "    # Explained variance\n",
    "    evr = pca.explained_variance_ratio_\n",
    "    axs[0].bar(grid, evr)\n",
    "    axs[0].set(\n",
    "        xlabel=\"Component\", title=\"% Explained Variance\", ylim=(0.0, 1.0)\n",
    "    )\n",
    "    # Cumulative Variance\n",
    "    cv = np.cumsum(evr)\n",
    "    axs[1].plot(np.r_[0, grid], np.r_[0, cv], \"o-\")\n",
    "    axs[1].set(\n",
    "        xlabel=\"Component\", title=\"% Cumulative Variance\", ylim=(0.0, 1.0)\n",
    "    )\n",
    "    # Set up figure\n",
    "    fig.set(figwidth=8, dpi=100)\n",
    "    return axs"
   ]
  },
  {
   "cell_type": "code",
   "execution_count": 6,
   "id": "e3b51585-c0d0-4c35-acfa-6df8484757b5",
   "metadata": {
    "tags": []
   },
   "outputs": [],
   "source": [
    "df_hdfs_anomaly = pd.read_csv(\"./logdata/hdfs/anomaly_label.csv\")"
   ]
  },
  {
   "cell_type": "code",
   "execution_count": 9,
   "id": "f5c7aedb-0533-4876-a02a-a9e10a456fbc",
   "metadata": {
    "tags": []
   },
   "outputs": [],
   "source": [
    "def log2list(path):\n",
    "    with open(path, \"r\") as f:\n",
    "        lines = [line.rstrip(\"\\n\") for line in f]\n",
    "    return lines\n",
    "\n",
    "hdfs = log2list(\"./logdata/hdfs/HDFS.log\")\n",
    "log_label_pairs = {}\n",
    "\n",
    "df_hdfs_logs = pd.DataFrame({\"log\" : hdfs})\n",
    "df_hdfs_logs[\"BlockId\"] = df_hdfs_logs[\"log\"].map(lambda line : re.search(r\"blk_[-]*[0-9]+\", line).group(0))\n",
    "df_hdfs = df_hdfs_anomaly.merge(df_hdfs_logs, how=\"left\", on=[\"BlockId\"])\n",
    "\n",
    "df_hdfs_without_duplicate = df_hdfs.drop_duplicates([\"BlockId\"])\n",
    "df_hdfs_without_duplicate.to_csv(\"./logdata/hdfs/df_hdfs_without_duplicate.csv\")"
   ]
  },
  {
   "cell_type": "code",
   "execution_count": 10,
   "id": "3a7f6b78-f115-4fca-b97f-bd34c94b6003",
   "metadata": {
    "tags": []
   },
   "outputs": [
    {
     "data": {
      "text/html": [
       "<div>\n",
       "<style scoped>\n",
       "    .dataframe tbody tr th:only-of-type {\n",
       "        vertical-align: middle;\n",
       "    }\n",
       "\n",
       "    .dataframe tbody tr th {\n",
       "        vertical-align: top;\n",
       "    }\n",
       "\n",
       "    .dataframe thead th {\n",
       "        text-align: right;\n",
       "    }\n",
       "</style>\n",
       "<table border=\"1\" class=\"dataframe\">\n",
       "  <thead>\n",
       "    <tr style=\"text-align: right;\">\n",
       "      <th></th>\n",
       "      <th>BlockId</th>\n",
       "      <th>Label</th>\n",
       "      <th>log</th>\n",
       "    </tr>\n",
       "  </thead>\n",
       "  <tbody>\n",
       "    <tr>\n",
       "      <th>0</th>\n",
       "      <td>blk_-1608999687919862906</td>\n",
       "      <td>Normal</td>\n",
       "      <td>081109 203518 143 INFO dfs.DataNode$DataXceive...</td>\n",
       "    </tr>\n",
       "    <tr>\n",
       "      <th>269</th>\n",
       "      <td>blk_7503483334202473044</td>\n",
       "      <td>Normal</td>\n",
       "      <td>081109 203520 142 INFO dfs.DataNode$DataXceive...</td>\n",
       "    </tr>\n",
       "    <tr>\n",
       "      <th>291</th>\n",
       "      <td>blk_-3544583377289625738</td>\n",
       "      <td>Anomaly</td>\n",
       "      <td>081109 203521 145 INFO dfs.DataNode$DataXceive...</td>\n",
       "    </tr>\n",
       "    <tr>\n",
       "      <th>514</th>\n",
       "      <td>blk_-9073992586687739851</td>\n",
       "      <td>Normal</td>\n",
       "      <td>081109 203523 143 INFO dfs.DataNode$DataXceive...</td>\n",
       "    </tr>\n",
       "    <tr>\n",
       "      <th>536</th>\n",
       "      <td>blk_7854771516489510256</td>\n",
       "      <td>Normal</td>\n",
       "      <td>081109 203529 148 INFO dfs.DataNode$DataXceive...</td>\n",
       "    </tr>\n",
       "    <tr>\n",
       "      <th>...</th>\n",
       "      <td>...</td>\n",
       "      <td>...</td>\n",
       "      <td>...</td>\n",
       "    </tr>\n",
       "    <tr>\n",
       "      <th>11175536</th>\n",
       "      <td>blk_1019720114020043203</td>\n",
       "      <td>Normal</td>\n",
       "      <td>081111 110351 27174 INFO dfs.DataNode$DataXcei...</td>\n",
       "    </tr>\n",
       "    <tr>\n",
       "      <th>11175555</th>\n",
       "      <td>blk_-2683116845478050414</td>\n",
       "      <td>Normal</td>\n",
       "      <td>081111 110359 26685 INFO dfs.DataNode$DataXcei...</td>\n",
       "    </tr>\n",
       "    <tr>\n",
       "      <th>11175574</th>\n",
       "      <td>blk_5595059397348477632</td>\n",
       "      <td>Normal</td>\n",
       "      <td>081111 110402 27311 INFO dfs.DataNode$DataXcei...</td>\n",
       "    </tr>\n",
       "    <tr>\n",
       "      <th>11175593</th>\n",
       "      <td>blk_1513937873877967730</td>\n",
       "      <td>Normal</td>\n",
       "      <td>081111 110412 27231 INFO dfs.DataNode$DataXcei...</td>\n",
       "    </tr>\n",
       "    <tr>\n",
       "      <th>11175612</th>\n",
       "      <td>blk_-9128742458709757181</td>\n",
       "      <td>Anomaly</td>\n",
       "      <td>081111 110413 26687 INFO dfs.DataNode$DataXcei...</td>\n",
       "    </tr>\n",
       "  </tbody>\n",
       "</table>\n",
       "<p>575061 rows × 3 columns</p>\n",
       "</div>"
      ],
      "text/plain": [
       "                           BlockId    Label  \\\n",
       "0         blk_-1608999687919862906   Normal   \n",
       "269        blk_7503483334202473044   Normal   \n",
       "291       blk_-3544583377289625738  Anomaly   \n",
       "514       blk_-9073992586687739851   Normal   \n",
       "536        blk_7854771516489510256   Normal   \n",
       "...                            ...      ...   \n",
       "11175536   blk_1019720114020043203   Normal   \n",
       "11175555  blk_-2683116845478050414   Normal   \n",
       "11175574   blk_5595059397348477632   Normal   \n",
       "11175593   blk_1513937873877967730   Normal   \n",
       "11175612  blk_-9128742458709757181  Anomaly   \n",
       "\n",
       "                                                        log  \n",
       "0         081109 203518 143 INFO dfs.DataNode$DataXceive...  \n",
       "269       081109 203520 142 INFO dfs.DataNode$DataXceive...  \n",
       "291       081109 203521 145 INFO dfs.DataNode$DataXceive...  \n",
       "514       081109 203523 143 INFO dfs.DataNode$DataXceive...  \n",
       "536       081109 203529 148 INFO dfs.DataNode$DataXceive...  \n",
       "...                                                     ...  \n",
       "11175536  081111 110351 27174 INFO dfs.DataNode$DataXcei...  \n",
       "11175555  081111 110359 26685 INFO dfs.DataNode$DataXcei...  \n",
       "11175574  081111 110402 27311 INFO dfs.DataNode$DataXcei...  \n",
       "11175593  081111 110412 27231 INFO dfs.DataNode$DataXcei...  \n",
       "11175612  081111 110413 26687 INFO dfs.DataNode$DataXcei...  \n",
       "\n",
       "[575061 rows x 3 columns]"
      ]
     },
     "execution_count": 10,
     "metadata": {},
     "output_type": "execute_result"
    }
   ],
   "source": [
    "df_hdfs_without_duplicate"
   ]
  },
  {
   "cell_type": "code",
   "execution_count": 64,
   "id": "363d69cc-7132-4407-a06b-58060eb547be",
   "metadata": {
    "tags": []
   },
   "outputs": [],
   "source": [
    "# df_hdfs_without_duplicate[\"text\"] = df_hdfs_without_duplicate[\"log\"].map(preprocess_log)"
   ]
  },
  {
   "cell_type": "code",
   "execution_count": 11,
   "id": "b3accd1b-045a-420c-8771-36d6821747e9",
   "metadata": {
    "tags": []
   },
   "outputs": [
    {
     "data": {
      "text/plain": [
       "'4.31.0.dev0'"
      ]
     },
     "execution_count": 11,
     "metadata": {},
     "output_type": "execute_result"
    }
   ],
   "source": [
    "import transformers\n",
    "transformers.__version__"
   ]
  },
  {
   "cell_type": "code",
   "execution_count": 12,
   "id": "e9b5954f-230a-4488-b152-aacd7cf29623",
   "metadata": {
    "tags": []
   },
   "outputs": [],
   "source": [
    "#分類と事前学習で異なるトークナイザを利用している？\n",
    "#根拠: 例えばHDFSの異常検知の場合, 異常ラベルはログデータのブロック番号と紐づけられている"
   ]
  },
  {
   "cell_type": "code",
   "execution_count": 13,
   "id": "28f44bce-4cfc-497d-927d-ce3ed5949837",
   "metadata": {
    "tags": []
   },
   "outputs": [],
   "source": [
    "#NOTE\n",
    "#ここで記号を区切ってwordninjaで塊除去を行っている\n",
    "#なお, かなり時間がかかるので実行には注意が必要\n",
    "#もう少し賢く書きたかったが, その書き方を思いつく時間とナイーブに実行する時間はどうせ同じぐらいだろう\n",
    "def preprocess_log(text, remove_digits=True):\n",
    "    text = text.replace('[', \" \")\n",
    "    text = text.replace(\".\", \" \")\n",
    "    text = text.replace(\",\", \" \")\n",
    "    text = text.replace(\":\", \" \")\n",
    "    text = text.replace(\"/\", \" \")\n",
    "    text = text.replace(\";\", \" \")\n",
    "    text = text.replace(\"=\", \" \")\n",
    "    text = text.replace(\"*\", \" \")\n",
    "    text = text.replace(\"_\", \" \")\n",
    "    text = text.replace(\"-\", \" \")\n",
    "    text = text.lower()\n",
    "    text = \" \".join(wordninja.split(text))\n",
    "    remove_num = lambda eg : \" \".join([word for word in eg.split(\" \") if not word.isdigit()])\n",
    "    if remove_digits:\n",
    "        return remove_num(text)\n",
    "    return text;\n",
    "\n",
    "def preprocess_log_batch(example, remove_digits=True):\n",
    "    return {\n",
    "        \"text\": [preprocess_log(l, remove_digits=remove_digits) for l in example[\"log\"]]\n",
    "    }"
   ]
  },
  {
   "cell_type": "code",
   "execution_count": 8,
   "id": "4de78902-9a36-4577-9348-42a7a238d3d9",
   "metadata": {
    "tags": []
   },
   "outputs": [],
   "source": [
    "df_ad_hdfs = pd.read_csv(\"./logdata/hdfs/hdfs_log_label_pairs.csv\", usecols=[\"log\", \"BlockId\", \"Label\"])\n",
    "# df_hdfs_without_duplicate[\"text\"] = df_hdfs_without_duplicate[\"log\"].map(preprocess_log)"
   ]
  },
  {
   "cell_type": "code",
   "execution_count": 10,
   "id": "856862c1-1d56-4f6d-b870-ee5553ae8cce",
   "metadata": {
    "tags": []
   },
   "outputs": [
    {
     "name": "stdout",
     "output_type": "stream",
     "text": [
      "Downloading and preparing dataset csv/default to /root/.cache/huggingface/datasets/csv/default-81d414b48ce383ec/0.0.0/eea64c71ca8b46dd3f537ed218fc9bf495d5707789152eb2764f5c78fa66d59d...\n"
     ]
    },
    {
     "name": "stderr",
     "output_type": "stream",
     "text": [
      "Downloading data files: 100%|██████████| 1/1 [00:00<00:00, 8943.08it/s]\n",
      "Extracting data files: 100%|██████████| 1/1 [00:00<00:00, 1098.27it/s]\n",
      "                                                                       \r"
     ]
    },
    {
     "name": "stdout",
     "output_type": "stream",
     "text": [
      "Dataset csv downloaded and prepared to /root/.cache/huggingface/datasets/csv/default-81d414b48ce383ec/0.0.0/eea64c71ca8b46dd3f537ed218fc9bf495d5707789152eb2764f5c78fa66d59d. Subsequent calls will reuse this data.\n"
     ]
    },
    {
     "name": "stderr",
     "output_type": "stream",
     "text": [
      "100%|██████████| 1/1 [00:00<00:00,  9.85it/s]\n"
     ]
    },
    {
     "data": {
      "text/plain": [
       "DatasetDict({\n",
       "    train: Dataset({\n",
       "        features: ['log', 'BlockId', 'Label'],\n",
       "        num_rows: 8940503\n",
       "    })\n",
       "    test: Dataset({\n",
       "        features: ['log', 'BlockId', 'Label'],\n",
       "        num_rows: 2235126\n",
       "    })\n",
       "})"
      ]
     },
     "execution_count": 10,
     "metadata": {},
     "output_type": "execute_result"
    }
   ],
   "source": [
    "datased_ad_hdfs = load_dataset(\"csv\", data_files=\"./logdata/hdfs/hdfs_log_label_pairs.csv\")\n",
    "datased_ad_hdfs = datased_ad_hdfs[\"train\"].train_test_split(0.2)\n",
    "datased_ad_hdfs = datased_ad_hdfs.remove_columns(['Unnamed: 0'])\n",
    "datased_ad_hdfs"
   ]
  },
  {
   "cell_type": "code",
   "execution_count": 14,
   "id": "0ccd07a4-ccaa-47e6-b344-bc02610afd2b",
   "metadata": {
    "tags": []
   },
   "outputs": [
    {
     "name": "stdout",
     "output_type": "stream",
     "text": [
      "Downloading and preparing dataset csv/default to /root/.cache/huggingface/datasets/csv/default-8d2c1362a4f07327/0.0.0/eea64c71ca8b46dd3f537ed218fc9bf495d5707789152eb2764f5c78fa66d59d...\n"
     ]
    },
    {
     "name": "stderr",
     "output_type": "stream",
     "text": [
      "Downloading data files: 100%|██████████| 1/1 [00:00<00:00, 6452.78it/s]\n",
      "Extracting data files: 100%|██████████| 1/1 [00:00<00:00, 114.83it/s]\n",
      "                                                                     \r"
     ]
    },
    {
     "name": "stdout",
     "output_type": "stream",
     "text": [
      "Dataset csv downloaded and prepared to /root/.cache/huggingface/datasets/csv/default-8d2c1362a4f07327/0.0.0/eea64c71ca8b46dd3f537ed218fc9bf495d5707789152eb2764f5c78fa66d59d. Subsequent calls will reuse this data.\n"
     ]
    },
    {
     "name": "stderr",
     "output_type": "stream",
     "text": [
      "100%|██████████| 1/1 [00:00<00:00,  2.09it/s]\n"
     ]
    }
   ],
   "source": [
    "dataset_hdfs = load_dataset(\"csv\", data_files=\"./logdata/hdfs/df_hdfs_without_duplicate.csv\")\n",
    "dataset_hdfs = dataset_hdfs[\"train\"].train_test_split(0.2)\n",
    "dataset_hdfs = dataset_hdfs.remove_columns(['Unnamed: 0'])"
   ]
  },
  {
   "cell_type": "code",
   "execution_count": 15,
   "id": "cccef4d6-b023-474c-bea1-818afdbaa14b",
   "metadata": {
    "tags": []
   },
   "outputs": [
    {
     "data": {
      "text/plain": [
       "DatasetDict({\n",
       "    train: Dataset({\n",
       "        features: ['BlockId', 'Label', 'log'],\n",
       "        num_rows: 460048\n",
       "    })\n",
       "    test: Dataset({\n",
       "        features: ['BlockId', 'Label', 'log'],\n",
       "        num_rows: 115013\n",
       "    })\n",
       "})"
      ]
     },
     "execution_count": 15,
     "metadata": {},
     "output_type": "execute_result"
    }
   ],
   "source": [
    "dataset_hdfs"
   ]
  },
  {
   "cell_type": "code",
   "execution_count": 16,
   "id": "bf549ef3-4376-4c63-b884-5e0220d567d2",
   "metadata": {
    "tags": []
   },
   "outputs": [
    {
     "data": {
      "text/plain": [
       "DatasetDict({\n",
       "    train: Dataset({\n",
       "        features: ['BlockId', 'Label', 'log'],\n",
       "        num_rows: 57506\n",
       "    })\n",
       "    test: Dataset({\n",
       "        features: ['BlockId', 'Label', 'log'],\n",
       "        num_rows: 57507\n",
       "    })\n",
       "})"
      ]
     },
     "execution_count": 16,
     "metadata": {},
     "output_type": "execute_result"
    }
   ],
   "source": [
    "train_data = dataset_hdfs[\"train\"]\n",
    "test_valid = dataset_hdfs[\"test\"].train_test_split(0.5)\n",
    "test_dataset = test_valid[\"test\"]\n",
    "eval_dataset = test_valid[\"train\"]\n",
    "test_valid"
   ]
  },
  {
   "cell_type": "code",
   "execution_count": 17,
   "id": "9732b8c1-9752-440e-a0f5-3add2c0389a4",
   "metadata": {
    "tags": []
   },
   "outputs": [
    {
     "name": "stderr",
     "output_type": "stream",
     "text": [
      "                                                                     \r"
     ]
    }
   ],
   "source": [
    "train_data = train_data.map(\n",
    "    preprocess_log_batch,\n",
    "    batched=True,\n",
    ")"
   ]
  },
  {
   "cell_type": "code",
   "execution_count": 18,
   "id": "f09fe6e7-8c2a-414a-a639-32f52ae288ae",
   "metadata": {
    "tags": []
   },
   "outputs": [
    {
     "name": "stderr",
     "output_type": "stream",
     "text": [
      "                                                                   \r"
     ]
    }
   ],
   "source": [
    "eval_dataset = eval_dataset.map(\n",
    "    preprocess_log_batch,\n",
    "    batched=True,\n",
    ")\n",
    "\n",
    "test_dataset = test_dataset.map(\n",
    "    preprocess_log_batch,\n",
    "    batched=True,\n",
    ")"
   ]
  },
  {
   "cell_type": "code",
   "execution_count": 36,
   "id": "60692afd-fd11-4a55-a918-aea412a2a04f",
   "metadata": {
    "tags": []
   },
   "outputs": [
    {
     "data": {
      "text/plain": [
       "Dataset({\n",
       "    features: ['log', 'BlockId', 'Label'],\n",
       "    num_rows: 8940503\n",
       "})"
      ]
     },
     "execution_count": 36,
     "metadata": {},
     "output_type": "execute_result"
    }
   ],
   "source": [
    "train_data"
   ]
  },
  {
   "cell_type": "code",
   "execution_count": 19,
   "id": "964067ad-2654-4dab-a8fb-92ce482fe04f",
   "metadata": {
    "tags": []
   },
   "outputs": [],
   "source": [
    "log_tokenizer = AutoTokenizer.from_pretrained(\"./tokenizers/log_tokenizer_from_old_large/\")\n",
    "log_tokenizer_w_n = AutoTokenizer.from_pretrained(\"./tokenizers/log_tokenizer_from_old_without_numbers/\")\n",
    "\n",
    "batch_size=16  # change to 16 for full training\n",
    "\n",
    "def process_data_to_model_inputs(batch):\n",
    "    # tokenize the inputs and labels\n",
    "    batch[\"labels\"] = list(map(lambda x : int(x == \"Normal\"), batch[\"Label\"]))\n",
    "\n",
    "    return log_tokenizer_w_n(batch[\"text\"], padding=\"max_length\", truncation=True, max_length=180)\n",
    "\n"
   ]
  },
  {
   "cell_type": "code",
   "execution_count": 20,
   "id": "1e5d396f-5e22-472c-babc-352ac0945a89",
   "metadata": {
    "tags": []
   },
   "outputs": [
    {
     "name": "stderr",
     "output_type": "stream",
     "text": [
      "                                                                      \r"
     ]
    },
    {
     "data": {
      "text/plain": [
       "Dataset({\n",
       "    features: ['labels', 'input_ids', 'token_type_ids', 'attention_mask'],\n",
       "    num_rows: 460048\n",
       "})"
      ]
     },
     "execution_count": 20,
     "metadata": {},
     "output_type": "execute_result"
    }
   ],
   "source": [
    "tokenized_train_data = train_data.map(\n",
    "    process_data_to_model_inputs, \n",
    "    batched=True, \n",
    "    batch_size=1000, \n",
    "    remove_columns=['log', 'BlockId', 'Label', 'text']\n",
    ")\n",
    "tokenized_train_data"
   ]
  },
  {
   "cell_type": "code",
   "execution_count": 36,
   "id": "37a2f4ea-7ab4-4dd5-b4d8-942ecada0679",
   "metadata": {
    "tags": []
   },
   "outputs": [],
   "source": [
    "X = np.array(tokenized_train_data[\"input_ids\"], dtype=float)"
   ]
  },
  {
   "cell_type": "code",
   "execution_count": 63,
   "id": "5c70b46d-10e9-498d-9d6e-e2782f0498a1",
   "metadata": {
    "tags": []
   },
   "outputs": [],
   "source": [
    "X = pd.DataFrame(X, columns=[f\"f{i + 1}\" for i in range(X.shape[1])])"
   ]
  },
  {
   "cell_type": "code",
   "execution_count": 65,
   "id": "4f658e84-7259-456c-9ee5-87ba24641e10",
   "metadata": {
    "tags": []
   },
   "outputs": [],
   "source": [
    "pca, X_pca, loadings = apply_pca(X, standardize=False)"
   ]
  },
  {
   "cell_type": "code",
   "execution_count": 69,
   "id": "8bd958b4-0d99-4723-8951-b711f4d4d545",
   "metadata": {
    "tags": []
   },
   "outputs": [
    {
     "data": {
      "text/plain": [
       "array([<AxesSubplot:title={'center':'% Explained Variance'}, xlabel='Component'>,\n",
       "       <AxesSubplot:title={'center':'% Cumulative Variance'}, xlabel='Component'>],\n",
       "      dtype=object)"
      ]
     },
     "execution_count": 69,
     "metadata": {},
     "output_type": "execute_result"
    },
    {
     "data": {
      "image/png": "[encoded data removed]",
      "text/plain": [
       "<Figure size 800x480 with 2 Axes>"
      ]
     },
     "metadata": {},
     "output_type": "display_data"
    }
   ],
   "source": [
    "plot_variance(pca)"
   ]
  },
  {
   "cell_type": "code",
   "execution_count": 86,
   "id": "52e6be99-b353-49d8-be8a-1d7fd126bae4",
   "metadata": {
    "tags": []
   },
   "outputs": [],
   "source": [
    "tokenized_train_data.set_format(type=\"torch\")"
   ]
  },
  {
   "cell_type": "code",
   "execution_count": 88,
   "id": "9767ba64-f052-4ddf-85a1-07c2e4c0cf96",
   "metadata": {
    "tags": []
   },
   "outputs": [],
   "source": [
    "small_train_dataset = tokenized_train_data.shuffle(seed=42).select(range(1000))\n"
   ]
  },
  {
   "cell_type": "code",
   "execution_count": null,
   "id": "9328aff9-e1fe-44b5-8a19-dbf7ede9b900",
   "metadata": {
    "tags": []
   },
   "outputs": [],
   "source": [
    "eval_dataset = eval_dataset.map(\n",
    "    process_data_to_model_inputs, \n",
    "    batched=True, \n",
    "    batch_size=batch_size, \n",
    "    remove_columns=['log', 'BlockId', 'Label', 'text']\n",
    ")\n",
    "\n",
    "\n",
    "eval_dataset.set_format(type=\"torch\")\n",
    "small_eval_dataset = eval_dataset.shuffle(seed=42).select(range(1000))"
   ]
  },
  {
   "cell_type": "code",
   "execution_count": 157,
   "id": "179f9999-de31-49d3-9c59-ad65d1504fb0",
   "metadata": {
    "tags": []
   },
   "outputs": [
    {
     "name": "stderr",
     "output_type": "stream",
     "text": [
      "                                                                   \r"
     ]
    }
   ],
   "source": [
    "test_dataset = test_dataset.map(\n",
    "    process_data_to_model_inputs, \n",
    "    batched=True, \n",
    "    batch_size=batch_size, \n",
    "    remove_columns=['log', 'BlockId', 'Label', 'text']\n",
    ")\n",
    "\n",
    "\n",
    "test_dataset.set_format(type=\"torch\")\n",
    "test_dataloader = DataLoader(test_dataset, batch_size=8)"
   ]
  },
  {
   "cell_type": "code",
   "execution_count": 148,
   "id": "3afb3d03-0809-4a5a-a602-9e34ab4a3d1b",
   "metadata": {
    "tags": []
   },
   "outputs": [],
   "source": [
    "from torch.utils.data import DataLoader\n",
    "\n",
    "train_dataloader = DataLoader(tokenized_train_data, shuffle=True, batch_size=8)\n",
    "eval_dataloader = DataLoader(eval_dataset, batch_size=8)"
   ]
  },
  {
   "cell_type": "code",
   "execution_count": null,
   "id": "f6272cde-7c5d-4e93-88cb-75a14511b6e1",
   "metadata": {},
   "outputs": [],
   "source": []
  },
  {
   "cell_type": "code",
   "execution_count": 171,
   "id": "3dd962f7-93dd-458d-913e-eb54ca64c6ba",
   "metadata": {
    "tags": []
   },
   "outputs": [
    {
     "name": "stderr",
     "output_type": "stream",
     "text": [
      "Some weights of BertForSequenceClassification were not initialized from the model checkpoint at ./logdata/unilog_pretrain_preln_on_attentions_0/ and are newly initialized: ['classifier.bias', 'classifier.weight']\n",
      "You should probably TRAIN this model on a down-stream task to be able to use it for predictions and inference.\n"
     ]
    }
   ],
   "source": [
    "from hf_transformers.src.transformers.models.bert.modeling_bert import BertForSequenceClassification\n",
    "from torch.optim import AdamW\n",
    "\n",
    "device = torch.device(\"cuda\" if torch.cuda.is_available() else \"cpu\")\n",
    "unilogConfigmodel = BertForSequenceClassification.from_pretrained(\"./logdata/unilog_pretrain_preln_on_attentions_0/\", num_labels=2).to(device)\n",
    "optimizer = AdamW(unilogConfigmodel.parameters(), lr=5e-5)"
   ]
  },
  {
   "cell_type": "code",
   "execution_count": 172,
   "id": "e5e97cdc-d0af-4035-be87-59b2d3fdd860",
   "metadata": {
    "tags": []
   },
   "outputs": [],
   "source": [
    "from transformers import get_scheduler\n",
    "\n",
    "num_epochs = 3\n",
    "num_training_steps = num_epochs * len(train_dataloader)\n",
    "lr_scheduler = get_scheduler(\n",
    "    name=\"linear\", optimizer=optimizer, num_warmup_steps=0, num_training_steps=num_training_steps\n",
    ")"
   ]
  },
  {
   "cell_type": "code",
   "execution_count": 151,
   "id": "e2c2fa4a-5b24-4887-a2d3-19795e2e7ead",
   "metadata": {
    "tags": []
   },
   "outputs": [],
   "source": [
    "import evaluate"
   ]
  },
  {
   "cell_type": "code",
   "execution_count": 169,
   "id": "bb13d5c0-01ae-4a3f-99b9-91ad8eb831f1",
   "metadata": {
    "tags": []
   },
   "outputs": [],
   "source": [
    "del tqdm"
   ]
  },
  {
   "cell_type": "code",
   "execution_count": 170,
   "id": "7295932d-dac3-4ff2-9bf2-484e78fae454",
   "metadata": {
    "tags": []
   },
   "outputs": [],
   "source": [
    "from tqdm.auto import tqdm"
   ]
  },
  {
   "cell_type": "code",
   "execution_count": 173,
   "id": "9af34ae4-b0d8-49f6-a68a-6a03a3231ec8",
   "metadata": {
    "tags": []
   },
   "outputs": [
    {
     "name": "stderr",
     "output_type": "stream",
     "text": [
      "100%|██████████| 57506/57506 [19:17<00:00, 49.66it/s]\n",
      "100%|██████████| 7189/7189 [00:47<00:00, 151.82it/s]\n"
     ]
    },
    {
     "name": "stdout",
     "output_type": "stream",
     "text": [
      "{'accuracy': 0.9707508781692346}\n",
      "{'precision': 0.9707508781692346}\n",
      "{'recall': 1.0}\n"
     ]
    },
    {
     "name": "stderr",
     "output_type": "stream",
     "text": [
      "100%|██████████| 57506/57506 [20:38<00:00, 46.43it/s]\n",
      "100%|██████████| 7189/7189 [00:48<00:00, 147.09it/s]\n"
     ]
    },
    {
     "name": "stdout",
     "output_type": "stream",
     "text": [
      "{'accuracy': 0.9707508781692346}\n",
      "{'precision': 0.9707508781692346}\n",
      "{'recall': 1.0}\n"
     ]
    },
    {
     "name": "stderr",
     "output_type": "stream",
     "text": [
      " 67%|██████▋   | 38767/57506 [12:37<05:33, 56.13it/s]IOPub message rate exceeded.\n",
      "The Jupyter server will temporarily stop sending output\n",
      "to the client in order to avoid crashing it.\n",
      "To change this limit, set the config variable\n",
      "`--ServerApp.iopub_msg_rate_limit`.\n",
      "\n",
      "Current values:\n",
      "ServerApp.iopub_msg_rate_limit=1000.0 (msgs/sec)\n",
      "ServerApp.rate_limit_window=3.0 (secs)\n",
      "\n"
     ]
    }
   ],
   "source": [
    "train_steps = 0\n",
    "\n",
    "save_steps = 10000\n",
    "\n",
    "best_f1 = 0.0\n",
    "\n",
    "for epoch in range(num_epochs):\n",
    "    unilogConfigmodel.train()\n",
    "    for batch in tqdm(train_dataloader):\n",
    "        train_steps += 1\n",
    "        batch = {k: v.to(device) for k, v in batch.items()}\n",
    "        outputs = unilogConfigmodel(**batch)\n",
    "        loss = outputs.loss\n",
    "        loss.backward()\n",
    "        optimizer.step()\n",
    "        lr_scheduler.step()\n",
    "        optimizer.zero_grad()\n",
    "\n",
    "        if train_steps % save_steps == 0:\n",
    "            unilogConfigmodel.save_pretrained(f\"./logdata/log_anomaly_model_step_{train_steps}\")\n",
    "    import evaluate\n",
    "\n",
    "    metric_acc = evaluate.load(\"accuracy\")\n",
    "    metric_f1 = evaluate.load(\"f1\")\n",
    "    metric_precision = evaluate.load(\"precision\")\n",
    "    metric_recall = evaluate.load(\"recall\")\n",
    "\n",
    "    unilogConfigmodel.eval()\n",
    "    for batch in tqdm(eval_dataloader):\n",
    "        batch = {k: v.to(device) for k, v in batch.items()}\n",
    "        with torch.no_grad():\n",
    "            outputs = unilogConfigmodel(**batch)\n",
    "\n",
    "        logits = outputs.logits\n",
    "        predictions = torch.argmax(logits, dim=-1)\n",
    "        metric_acc.add_batch(predictions=predictions, references=batch[\"labels\"])\n",
    "        metric_f1.add_batch(predictions=predictions, references=batch[\"labels\"])\n",
    "        metric_precision.add_batch(predictions=predictions, references=batch[\"labels\"])\n",
    "        metric_recall.add_batch(predictions=predictions, references=batch[\"labels\"])\n",
    "\n",
    "    print(metric_acc.compute())\n",
    "    print(metric_precision.compute())\n",
    "    print(metric_recall.compute())\n",
    "    \n",
    "    curr_f1_score = metric_f1.compute()[\"f1\"]\n",
    "    prev_f1_score = best_f1\n",
    "    if (curr_f1_score > prev_f1_score):\n",
    "        best_f1 = max(best_f1, curr_f1_score)\n",
    "        unilogConfigmodel.save_pretrained(f\"./logdata/log_anomaly_model_best\")\n"
   ]
  },
  {
   "cell_type": "code",
   "execution_count": 178,
   "id": "fae2252b-f4c3-4980-a14b-f6e7a6c6991a",
   "metadata": {
    "tags": []
   },
   "outputs": [
    {
     "name": "stdout",
     "output_type": "stream",
     "text": [
      "{'accuracy': 0.9705427165388562}\n",
      "{'f1': 0.9850511824920578}\n",
      "{'precision': 0.9705427165388562}\n",
      "{'recall': 1.0}\n"
     ]
    }
   ],
   "source": [
    "import evaluate\n",
    "\n",
    "metric_acc = evaluate.load(\"accuracy\")\n",
    "metric_f1 = evaluate.load(\"f1\")\n",
    "metric_precision = evaluate.load(\"precision\")\n",
    "metric_recall = evaluate.load(\"recall\")\n",
    "\n",
    "unilogBestModel = BertForSequenceClassification.from_pretrained(\"./logdata/log_anomaly_model_best/\", num_labels=2).to(device)\n",
    "unilogBestModel.eval()\n",
    "for batch in test_dataloader:\n",
    "    batch = {k: v.to(device) for k, v in batch.items()}\n",
    "    with torch.no_grad():\n",
    "        outputs = unilogBestModel(**batch)\n",
    "\n",
    "    logits = outputs.logits\n",
    "    predictions = torch.argmax(logits, dim=-1)\n",
    "    metric_acc.add_batch(predictions=predictions, references=batch[\"labels\"])\n",
    "    metric_f1.add_batch(predictions=predictions, references=batch[\"labels\"])\n",
    "    metric_precision.add_batch(predictions=predictions, references=batch[\"labels\"])\n",
    "    metric_recall.add_batch(predictions=predictions, references=batch[\"labels\"])\n",
    "    \n",
    "print(metric_acc.compute())\n",
    "print(metric_f1.compute())\n",
    "print(metric_precision.compute())\n",
    "print(metric_recall.compute())"
   ]
  }
 ],
 "metadata": {
  "kernelspec": {
   "display_name": "Python 3 (ipykernel)",
   "language": "python",
   "name": "python3"
  },
  "language_info": {
   "codemirror_mode": {
    "name": "ipython",
    "version": 3
   },
   "file_extension": ".py",
   "mimetype": "text/x-python",
   "name": "python",
   "nbconvert_exporter": "python",
   "pygments_lexer": "ipython3",
   "version": "3.7.12"
  }
 },
 "nbformat": 4,
 "nbformat_minor": 5
}
