{
 "cells": [
  {
   "cell_type": "code",
   "execution_count": 211,
   "id": "12b81200-d7d9-409d-8c48-8d1d08832b30",
   "metadata": {
    "tags": []
   },
   "outputs": [],
   "source": [
    "from datasets import load_dataset, load_from_disk\n",
    "import wordninja\n",
    "import os\n",
    "os.environ[\"CUDA_DEVICE_ORDER\"]=\"PCI_BUS_ID\"   # see issue #152\n",
    "os.environ[\"CUDA_VISIBLE_DEVICES\"]=\"2\"\n",
    "import re\n",
    "import glob\n",
    "import numpy as np\n",
    "import pandas as pd\n",
    "from tqdm.auto import tqdm\n",
    "\n",
    "import datasets\n",
    "import transformers\n",
    "from transformers import AutoTokenizer, default_data_collator, get_scheduler\n",
    "from hf_transformers.src.transformers.models.bert.configuration_bert import BertConfig\n",
    "from hf_transformers.src.transformers.models.bert.modeling_bert import BertForPreTraining\n",
    "\n",
    "import torch\n",
    "from torch.optim import AdamW\n",
    "from torch.utils.data import DataLoader\n",
    "\n",
    "import sys\n",
    "import math\n",
    "\n",
    "import collections\n",
    "\n",
    "\n",
    "from tokenizers import (\n",
    "    decoders,\n",
    "    models,\n",
    "    normalizers,\n",
    "    pre_tokenizers,\n",
    "    processors,\n",
    "    trainers,\n",
    "    Tokenizer,\n",
    ")\n",
    "\n",
    "\n",
    "import openai\n",
    "\n",
    "# Create your views here.\n",
    "openai.api_key='YOUR OPENAI API KEY'"
   ]
  },
  {
   "cell_type": "code",
   "execution_count": null,
   "id": "93afff18-0c0d-47de-b0f7-614ee7d1b380",
   "metadata": {},
   "outputs": [],
   "source": [
    "#WARNING\n",
    "#cacheディレクトリの指定は絶対マウント先のフォルダにするように\n",
    "#そうしないとdockerイメージを管理している研究室サーバーの/がパンパンになってしまう\n",
    "#/が容量オーバーすると何も動かなくなって他の人に迷惑\n",
    "!export HF_DATASETS_CACHE=\"/home/\""
   ]
  },
  {
   "cell_type": "code",
   "execution_count": 4,
   "id": "1f5877a8-7fa1-4229-a9eb-eb4df4a22544",
   "metadata": {
    "tags": []
   },
   "outputs": [],
   "source": [
    "df_summary = pd.read_csv(\"./logdata/log_summary_pairs.csv\", usecols=[\"input\", \"summary\"])"
   ]
  },
  {
   "cell_type": "code",
   "execution_count": 165,
   "id": "46941a60-4a3d-4c40-9533-daab82c4c987",
   "metadata": {
    "tags": []
   },
   "outputs": [
    {
     "data": {
      "text/plain": [
       "420"
      ]
     },
     "execution_count": 165,
     "metadata": {},
     "output_type": "execute_result"
    }
   ],
   "source": [
    "max(list(df_summary[\"summary\"]), key=lambda x : len(x))"
   ]
  },
  {
   "cell_type": "code",
   "execution_count": 190,
   "id": "8c677db0-aaf0-418c-a86c-f1052009c90e",
   "metadata": {
    "tags": []
   },
   "outputs": [],
   "source": [
    "import openai\n",
    "\n",
    "# Create your views here.\n",
    "openai.api_key='YOUR OPENAI API KEY'\n",
    "\n",
    "def ask_GPT(input_log, max_tokens=64):\n",
    "    prompt = make_prompt(input_log)\n",
    "    return GPT(prompt, max_tokens=max_tokens)\n",
    "    \n",
    "#プロンプト生成\n",
    "def make_prompt(input_log, num_samples=3):\n",
    "    prompt = \"\"\"Could you briefly summarize a log message like the following examples? Note: Please do NOT include any numbers and special characters in your answer.\"\"\"\n",
    "\n",
    "    samples = df_summary.sample(num_samples)\n",
    "\n",
    "    i = 0\n",
    "    for log, summary in zip(samples[\"input\"], samples[\"summary\"]):\n",
    "        prompt += f\"\\nQ{i + 1}: {log}\\nA{i + 1}: {summary}\\n\"\n",
    "        i += 1\n",
    "        \n",
    "    prompt += f\"\\nQ{i + 1}:{input_log}\\n\"\n",
    "\n",
    "    return prompt\n",
    "\n",
    "#chatGPTからプロンプト(user_query)対する答えを得る関数\n",
    "def GPT(user_query, model_engine=\"text-davinci-003\", max_tokens=64):\n",
    "    '''\n",
    "    This function uses the OpenAI API to generate a response to the given\n",
    "    user_query using the ChatGPT model\n",
    "    '''\n",
    "    # Use the OpenAI API to generate a response\n",
    "    completion = openai.Completion.create(\n",
    "          engine = model_engine,\n",
    "          prompt = user_query,\n",
    "          max_tokens = max_tokens,\n",
    "          n = 1,\n",
    "          temperature = 1.0,\n",
    "    )\n",
    "    response = completion.choices[0].text\n",
    "    return response"
   ]
  },
  {
   "cell_type": "code",
   "execution_count": 126,
   "id": "7940b2a8-e83b-4d69-a940-a880378b2ffd",
   "metadata": {
    "tags": []
   },
   "outputs": [],
   "source": []
  },
  {
   "cell_type": "code",
   "execution_count": 127,
   "id": "fabcceb8-6d41-4659-9085-8c920a200add",
   "metadata": {
    "tags": []
   },
   "outputs": [
    {
     "data": {
      "text/plain": [
       "'INFO dfs.FSNamesystem : BLOCK* NameSystem.addStoredBlock : blockMap updated : 10.251.202.134 : 50010 is added to blk_-6250047579414065511 size 67108864'"
      ]
     },
     "execution_count": 127,
     "metadata": {},
     "output_type": "execute_result"
    }
   ],
   "source": [
    "sample_input"
   ]
  },
  {
   "cell_type": "code",
   "execution_count": 152,
   "id": "ea08a0c9-a53b-4699-b31e-7fff4e03912d",
   "metadata": {
    "tags": []
   },
   "outputs": [
    {
     "data": {
      "text/html": [
       "<div>\n",
       "<style scoped>\n",
       "    .dataframe tbody tr th:only-of-type {\n",
       "        vertical-align: middle;\n",
       "    }\n",
       "\n",
       "    .dataframe tbody tr th {\n",
       "        vertical-align: top;\n",
       "    }\n",
       "\n",
       "    .dataframe thead th {\n",
       "        text-align: right;\n",
       "    }\n",
       "</style>\n",
       "<table border=\"1\" class=\"dataframe\">\n",
       "  <thead>\n",
       "    <tr style=\"text-align: right;\">\n",
       "      <th></th>\n",
       "      <th>input</th>\n",
       "      <th>summary</th>\n",
       "    </tr>\n",
       "  </thead>\n",
       "  <tbody>\n",
       "    <tr>\n",
       "      <th>0</th>\n",
       "      <td>switch module error link in reset</td>\n",
       "      <td>link in reset link ok link error</td>\n",
       "    </tr>\n",
       "    <tr>\n",
       "      <th>1</th>\n",
       "      <td>info df s data node data x ce iver served bloc...</td>\n",
       "      <td>verification succeeded got exception served block</td>\n",
       "    </tr>\n",
       "    <tr>\n",
       "      <th>2</th>\n",
       "      <td>g it hub com close bytes sent bytes kb receive...</td>\n",
       "      <td>open through proxy bytes sent bytes received c...</td>\n",
       "    </tr>\n",
       "    <tr>\n",
       "      <th>3</th>\n",
       "      <td>tcp conn tencent com error could not connect t...</td>\n",
       "      <td>open through proxy bytes sent bytes received c...</td>\n",
       "    </tr>\n",
       "    <tr>\n",
       "      <th>4</th>\n",
       "      <td>node status not responding</td>\n",
       "      <td>node status not responding node status configu...</td>\n",
       "    </tr>\n",
       "    <tr>\n",
       "      <th>...</th>\n",
       "      <td>...</td>\n",
       "      <td>...</td>\n",
       "    </tr>\n",
       "    <tr>\n",
       "      <th>1193</th>\n",
       "      <td>info client attempting to renew session x f a at</td>\n",
       "      <td>connection request will be dropped client atte...</td>\n",
       "    </tr>\n",
       "    <tr>\n",
       "      <th>1194</th>\n",
       "      <td>node status running</td>\n",
       "      <td>node status running</td>\n",
       "    </tr>\n",
       "    <tr>\n",
       "      <th>1195</th>\n",
       "      <td>warn connection broken for id my id error</td>\n",
       "      <td>received connection request connection broken ...</td>\n",
       "    </tr>\n",
       "    <tr>\n",
       "      <th>1196</th>\n",
       "      <td>switch module error link ok</td>\n",
       "      <td>link in reset link ok link error</td>\n",
       "    </tr>\n",
       "    <tr>\n",
       "      <th>1197</th>\n",
       "      <td>proxy c se cu hk edu hk open through proxy pro...</td>\n",
       "      <td>open through proxy bytes sent bytes received c...</td>\n",
       "    </tr>\n",
       "  </tbody>\n",
       "</table>\n",
       "<p>1198 rows × 2 columns</p>\n",
       "</div>"
      ],
      "text/plain": [
       "                                                  input  \\\n",
       "0                     switch module error link in reset   \n",
       "1     info df s data node data x ce iver served bloc...   \n",
       "2     g it hub com close bytes sent bytes kb receive...   \n",
       "3     tcp conn tencent com error could not connect t...   \n",
       "4                            node status not responding   \n",
       "...                                                 ...   \n",
       "1193   info client attempting to renew session x f a at   \n",
       "1194                                node status running   \n",
       "1195          warn connection broken for id my id error   \n",
       "1196                        switch module error link ok   \n",
       "1197  proxy c se cu hk edu hk open through proxy pro...   \n",
       "\n",
       "                                                summary  \n",
       "0                      link in reset link ok link error  \n",
       "1     verification succeeded got exception served block  \n",
       "2     open through proxy bytes sent bytes received c...  \n",
       "3     open through proxy bytes sent bytes received c...  \n",
       "4     node status not responding node status configu...  \n",
       "...                                                 ...  \n",
       "1193  connection request will be dropped client atte...  \n",
       "1194                                node status running  \n",
       "1195  received connection request connection broken ...  \n",
       "1196                   link in reset link ok link error  \n",
       "1197  open through proxy bytes sent bytes received c...  \n",
       "\n",
       "[1198 rows x 2 columns]"
      ]
     },
     "execution_count": 152,
     "metadata": {},
     "output_type": "execute_result"
    }
   ],
   "source": [
    "df_test = pd.read_csv(\"./logdata/test_summary.csv\", usecols=[\"input\", \"summary\"])\n",
    "df_test"
   ]
  },
  {
   "cell_type": "code",
   "execution_count": 191,
   "id": "b0ce0d57-0677-414a-9231-8da062af2975",
   "metadata": {
    "tags": []
   },
   "outputs": [
    {
     "name": "stdout",
     "output_type": "stream",
     "text": [
      "Could you briefly summarize a log message like the following examples? Note: Please do NOT include any numbers and special characters in your answer.\n",
      "Q1: INFO dfs.FSNamesystem : BLOCK* NameSystem.addStoredBlock : blockMap updated : 10.250.15.67 : 50010 is added to blk_6776004133998486732 size 67108864\n",
      "A1: PacketResponder terminating; Received block; blockMap updated; Receiving block;\n",
      "\n",
      "Q2: - proxy.cse.cuhk.edu.hk : 5070 open through proxy proxy.cse.cuhk.edu.hk : 5070 HTTPS\n",
      "A2: open through proxy; bytes sent; bytes received; close;\n",
      "\n",
      "Q3: RAS APP FATAL ciod : Error reading message prefix on CioStream socket to 172.16.96.116 : 47034 , Link has been severed\n",
      "A3: Received signal; Error reading message prefix;\n",
      "\n",
      "Q4:INFO dfs.FSNamesystem : BLOCK* NameSystem.addStoredBlock : blockMap updated : 10.251.202.134 : 50010 is added to blk_-6250047579414065511 size 67108864\n",
      "\n"
     ]
    }
   ],
   "source": [
    "print(make_prompt(sample_input))"
   ]
  },
  {
   "cell_type": "code",
   "execution_count": 195,
   "id": "5dc8597b-735a-4069-9e39-9b44be7679af",
   "metadata": {
    "tags": []
   },
   "outputs": [],
   "source": [
    "df_summary = pd.read_csv(\"./logdata/test_summary.csv\", usecols=[\"input\", \"summary\"])"
   ]
  },
  {
   "cell_type": "code",
   "execution_count": 201,
   "id": "09889e28-d6b2-404b-91ea-d33375b4e14e",
   "metadata": {
    "tags": []
   },
   "outputs": [],
   "source": [
    "df_summary"
   ]
  },
  {
   "cell_type": "code",
   "execution_count": 200,
   "id": "7c8023ea-561b-476d-b067-08016d2a2c6b",
   "metadata": {
    "tags": []
   },
   "outputs": [
    {
     "name": "stderr",
     "output_type": "stream",
     "text": [
      "100%|██████████| 1198/1198 [1:43:40<00:00,  5.19s/it]"
     ]
    },
    {
     "name": "stdout",
     "output_type": "stream",
     "text": [
      "Recall: 0.44769360015051407, Precision: 0.3619654803530013, Rouge-1 F 0.3714160554722489\n"
     ]
    },
    {
     "name": "stderr",
     "output_type": "stream",
     "text": [
      "\n"
     ]
    }
   ],
   "source": [
    "recalls = []\n",
    "precisions = []\n",
    "f_scores = []\n",
    "\n",
    "for i in tqdm(range(len(df_summary))):\n",
    "    sample_input = df_summary.iloc[i][\"input\"]\n",
    "    sample_ans = df_summary.iloc[i][\"summary\"]\n",
    "    ans = ask_GPT(sample_input, max_tokens=64)\n",
    "    rouge_score = rouge.get_scores(ans, sample_ans)[0]\n",
    "    recalls.append(rouge_score[\"rouge-1\"][\"r\"])\n",
    "    precisions.append(rouge_score[\"rouge-1\"][\"p\"])\n",
    "    f_scores.append(rouge_score[\"rouge-1\"][\"f\"])\n",
    "\n",
    "print(f\"Recall: {sum(recalls)/len(df_summary)}, Precision: {sum(precisions)/len(df_summary)}, Rouge-1 F {sum(f_scores)/len(df_summary)}\")"
   ]
  },
  {
   "cell_type": "code",
   "execution_count": 124,
   "id": "9773dec6-c12b-4412-ab4d-143abbdeb7fb",
   "metadata": {
    "tags": []
   },
   "outputs": [],
   "source": [
    "rouge = datasets.load_metric(\"rouge\")\n",
    "\n",
    "def compute_metrics(pred_str, label_str):\n",
    "    # all unnecessary tokens are removed\n",
    "\n",
    "    padding_length = max(len(pred_str), len(label_str)) - min(len(pred_str), len(label_str))\n",
    "    \n",
    "    if max(len(pred_str), len(label_str)) == len(pred_str):\n",
    "        rouge_output = rouge.compute(predictions=pred_str, references=label_str+\" \"*(padding_length), rouge_types=[\"rouge1\"])[\"rouge1\"].mid\n",
    "    else:\n",
    "        rouge_output = rouge.compute(predictions=pred_str+\" \"*(padding_length), references=label_str, rouge_types=[\"rouge1\"])[\"rouge1\"].mid\n",
    "\n",
    "    return {\n",
    "        \"rouge1_precision\": round(rouge_output.precision, 4),\n",
    "        \"rouge1_recall\": round(rouge_output.recall, 4),\n",
    "        \"rouge1_fmeasure\": round(rouge_output.fmeasure, 4),\n",
    "    }"
   ]
  },
  {
   "cell_type": "code",
   "execution_count": 193,
   "id": "2c18aace-d0ef-421f-b118-1120205a644f",
   "metadata": {
    "tags": []
   },
   "outputs": [
    {
     "data": {
      "text/plain": [
       "[{'rouge-1': {'r': 0.25, 'p': 0.13333333333333333, 'f': 0.173913038941399},\n",
       "  'rouge-2': {'r': 0.0, 'p': 0.0, 'f': 0.0},\n",
       "  'rouge-l': {'r': 0.25, 'p': 0.13333333333333333, 'f': 0.173913038941399}}]"
      ]
     },
     "execution_count": 193,
     "metadata": {},
     "output_type": "execute_result"
    }
   ],
   "source": [
    "from rouge import Rouge \n",
    "\n",
    "rouge = Rouge()\n",
    "rouge.get_scores(ans, sample_ans)"
   ]
  },
  {
   "cell_type": "code",
   "execution_count": 204,
   "id": "e3f13c6b-7cc2-4a21-a60c-d727003cf2df",
   "metadata": {},
   "outputs": [],
   "source": [
    "ans = "
   ]
  },
  {
   "cell_type": "code",
   "execution_count": 209,
   "id": "e6687af0-72a0-4cdf-a11e-b2a272f235ba",
   "metadata": {
    "tags": []
   },
   "outputs": [],
   "source": [
    "sample_input = df_summary.iloc[10][\"input\"]\n",
    "sample_ans = df_summary.iloc[10][\"summary\"]"
   ]
  },
  {
   "cell_type": "code",
   "execution_count": 212,
   "id": "b825cfb3-e62e-4ca0-b985-bbc494e293e3",
   "metadata": {
    "tags": []
   },
   "outputs": [
    {
     "name": "stdout",
     "output_type": "stream",
     "text": [
      "Could you briefly summarize a log message like the following examples? Note: Please do NOT include any numbers and special characters in your answer.\n",
      "Q1: ras kernel fatal data store interrupt caused by ic bi\n",
      "A1: program interrupt data store interrupt\n",
      "\n",
      "Q2: switch module fan fan speeds\n",
      "A2: fan speeds\n",
      "\n",
      "Q3: warn send worker leaving thread\n",
      "A3: send worker received connection connection broken received connection interrupting send worker interrupted\n",
      "\n",
      "Q4:info storage memory store block broadcast piece stored as bytes in memory estimated size mb free mb\n",
      "\n",
      "----------------------------------------------------------------------------------------------------\n",
      "A4: block stored in memory estimated size amount of space being used amount of space still available storage capacity data stored as bytes information about how much is being used/free\n"
     ]
    }
   ],
   "source": [
    "print(make_prompt(sample_input))\n",
    "print(\"-\"*100)\n",
    "print(ask_GPT(sample_input, max_tokens=64))"
   ]
  },
  {
   "cell_type": "code",
   "execution_count": null,
   "id": "920d0796-c511-4db2-834a-fc914efd9dae",
   "metadata": {},
   "outputs": [],
   "source": []
  }
 ],
 "metadata": {
  "kernelspec": {
   "display_name": "Python 3 (ipykernel)",
   "language": "python",
   "name": "python3"
  },
  "language_info": {
   "codemirror_mode": {
    "name": "ipython",
    "version": 3
   },
   "file_extension": ".py",
   "mimetype": "text/x-python",
   "name": "python",
   "nbconvert_exporter": "python",
   "pygments_lexer": "ipython3",
   "version": "3.7.12"
  }
 },
 "nbformat": 4,
 "nbformat_minor": 5
}
